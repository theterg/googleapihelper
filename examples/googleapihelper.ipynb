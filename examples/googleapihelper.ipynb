{
 "cells": [
  {
   "cell_type": "code",
   "execution_count": 1,
   "metadata": {
    "collapsed": false
   },
   "outputs": [],
   "source": [
    "%matplotlib inline\n",
    "\n",
    "import numpy as np\n",
    "import matplotlib.pyplot as plt\n",
    "import pandas as pd\n",
    "from googleapihelper import ipython\n",
    "\n",
    "service = ipython.build(\"drive\", \"v2\", scope=\"https://www.googleapis.com/auth/drive.readonly\")"
   ]
  },
  {
   "cell_type": "code",
   "execution_count": 2,
   "metadata": {
    "collapsed": false
   },
   "outputs": [],
   "source": [
    "files = service.files().list().execute()\n",
    "\n",
    "found = False\n",
    "for item in files['items']:\n",
    "    if item['title'] == 'LBCOM filter data':\n",
    "        found = item\n",
    "\n",
    "resp, content = service._http.request(found['exportLinks']['application/vnd.openxmlformats-officedocument.spreadsheetml.sheet'])\n",
    "\n",
    "with open('/tmp/sheets.xlsx', 'wb') as f:\n",
    "    f.write(content)\n",
    "\n",
    "x1 = pd.ExcelFile('/tmp/sheets.xlsx')\n",
    "sheets = x1.sheet_names"
   ]
  },
  {
   "cell_type": "code",
   "execution_count": 3,
   "metadata": {
    "collapsed": false
   },
   "outputs": [
    {
     "data": {
      "text/html": [
       "<div>\n",
       "<table border=\"1\" class=\"dataframe\">\n",
       "  <thead>\n",
       "    <tr style=\"text-align: right;\">\n",
       "      <th></th>\n",
       "      <th>in</th>\n",
       "      <th>out</th>\n",
       "      <th>Unnamed: 2</th>\n",
       "      <th>Unnamed: 3</th>\n",
       "    </tr>\n",
       "  </thead>\n",
       "  <tbody>\n",
       "    <tr>\n",
       "      <th>250</th>\n",
       "      <td>8.437</td>\n",
       "      <td>6.25</td>\n",
       "      <td>0.740785</td>\n",
       "      <td>-2.606161</td>\n",
       "    </tr>\n",
       "    <tr>\n",
       "      <th>500</th>\n",
       "      <td>9.687</td>\n",
       "      <td>23.12</td>\n",
       "      <td>2.386704</td>\n",
       "      <td>7.555971</td>\n",
       "    </tr>\n",
       "    <tr>\n",
       "      <th>750</th>\n",
       "      <td>15.310</td>\n",
       "      <td>93.12</td>\n",
       "      <td>6.082299</td>\n",
       "      <td>15.681356</td>\n",
       "    </tr>\n",
       "    <tr>\n",
       "      <th>1000</th>\n",
       "      <td>17.500</td>\n",
       "      <td>185.90</td>\n",
       "      <td>10.622857</td>\n",
       "      <td>20.524827</td>\n",
       "    </tr>\n",
       "    <tr>\n",
       "      <th>1250</th>\n",
       "      <td>19.380</td>\n",
       "      <td>218.80</td>\n",
       "      <td>11.289990</td>\n",
       "      <td>21.053871</td>\n",
       "    </tr>\n",
       "  </tbody>\n",
       "</table>\n",
       "</div>"
      ],
      "text/plain": [
       "         in      out  Unnamed: 2  Unnamed: 3\n",
       "250    8.437    6.25    0.740785   -2.606161\n",
       "500    9.687   23.12    2.386704    7.555971\n",
       "750   15.310   93.12    6.082299   15.681356\n",
       "1000  17.500  185.90   10.622857   20.524827\n",
       "1250  19.380  218.80   11.289990   21.053871"
      ]
     },
     "execution_count": 3,
     "metadata": {},
     "output_type": "execute_result"
    }
   ],
   "source": [
    "df = x1.parse(sheets[1])\n",
    "df.head()"
   ]
  }
 ],
 "metadata": {
  "kernelspec": {
   "display_name": "Python 2",
   "language": "python",
   "name": "python2"
  },
  "language_info": {
   "codemirror_mode": {
    "name": "ipython",
    "version": 2
   },
   "file_extension": ".py",
   "mimetype": "text/x-python",
   "name": "python",
   "nbconvert_exporter": "python",
   "pygments_lexer": "ipython2",
   "version": "2.7.6"
  }
 },
 "nbformat": 4,
 "nbformat_minor": 0
}
